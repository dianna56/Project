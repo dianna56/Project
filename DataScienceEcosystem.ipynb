{
 "cells": [
  {
   "cell_type": "markdown",
   "id": "a5c8ba65-d57f-4a96-b87f-49efc664c0a6",
   "metadata": {},
   "source": [
    "# Data Science Tools and Ecosystem"
   ]
  },
  {
   "cell_type": "markdown",
   "id": "89929470-fd49-4052-a669-1f86d1f03743",
   "metadata": {},
   "source": [
    "In this notebook, Data Science Tools are summerized."
   ]
  },
  {
   "cell_type": "markdown",
   "id": "b63b4abd-ac11-4648-ae07-b76f02ae8e46",
   "metadata": {},
   "source": [
    "**Objectives**\n",
    "- List popular Languages used by Data Scientists\n",
    "- List Libraries commonly used by Data Scientists\n",
    "- Identify arithmetic expressions\n",
    "- List popular Data Science Tools"
   ]
  },
  {
   "cell_type": "markdown",
   "id": "e32ec57f-89e1-4be9-a195-7edd71628274",
   "metadata": {},
   "source": [
    "Some popular languages that Data Scientists use are:"
   ]
  },
  {
   "cell_type": "markdown",
   "id": "e6e31c05-f40b-45c4-bec0-4e221bc9fcb0",
   "metadata": {},
   "source": [
    "1. R\n",
    "2. SQL\n",
    "3. Java\n",
    "4. Scala\n",
    "5. C++"
   ]
  },
  {
   "cell_type": "markdown",
   "id": "f0b3854a-7e9f-4297-95ef-87f0ad62520a",
   "metadata": {},
   "source": [
    "Some common libraries Data Scientists use are:"
   ]
  },
  {
   "cell_type": "markdown",
   "id": "8a45f046-8eb9-45c2-bcf4-6d50863f0581",
   "metadata": {},
   "source": [
    "1. Pandas\n",
    "2. Numpy\n",
    "3. Matplotlib"
   ]
  },
  {
   "cell_type": "markdown",
   "id": "d949d66b-2c7c-41a2-9ad7-c5baf94a685a",
   "metadata": {},
   "source": [
    "| Data Science Tools| \n",
    "|------------------|\n",
    "| MySQL|\n",
    "| Apache Spark|\n",
    "| Jupyter |"
   ]
  },
  {
   "cell_type": "markdown",
   "id": "831ebe60-1d64-40a3-8819-e40b4381c9b2",
   "metadata": {},
   "source": [
    "### Below are a few examples of evaluating arithmetic expressions in Python."
   ]
  },
  {
   "cell_type": "markdown",
   "id": "bd95c35b-a14d-429a-b830-702b5cf729ad",
   "metadata": {},
   "source": [
    "The following is a simple arithmetic expression to multiply then add integers."
   ]
  },
  {
   "cell_type": "code",
   "execution_count": 1,
   "id": "6f806a14-1f29-4204-aac8-78c658943546",
   "metadata": {},
   "outputs": [
    {
     "data": {
      "text/plain": [
       "17"
      ]
     },
     "execution_count": 1,
     "metadata": {},
     "output_type": "execute_result"
    }
   ],
   "source": [
    "(3*4)+5"
   ]
  },
  {
   "cell_type": "markdown",
   "id": "62fdbfc3-faed-426d-b1d5-210255e5fa31",
   "metadata": {},
   "source": [
    "This following expresson will convert 200 minutes into hours by dividing by 60"
   ]
  },
  {
   "cell_type": "code",
   "execution_count": 2,
   "id": "5dc2a2c4-31e0-4381-b2df-035bb9437dd2",
   "metadata": {},
   "outputs": [
    {
     "name": "stdin",
     "output_type": "stream",
     "text": [
      "Enter time in minutes 200\n"
     ]
    },
    {
     "name": "stdout",
     "output_type": "stream",
     "text": [
      "Hours= 3\n",
      "Minutes= 20\n"
     ]
    }
   ],
   "source": [
    "min=int(input(\"Enter time in minutes\"))\n",
    "h=min//60\n",
    "m=min%60\n",
    "print(\"Hours=\",h)\n",
    "print(\"Minutes=\",m)"
   ]
  },
  {
   "cell_type": "markdown",
   "id": "7d4e384f-f1f0-4ccd-b0d2-55e7e8fc2445",
   "metadata": {},
   "source": [
    "## Author\n",
    "Dianna Ramirez-Cordova"
   ]
  }
 ],
 "metadata": {
  "kernelspec": {
   "display_name": "Python 3 (ipykernel)",
   "language": "python",
   "name": "python3"
  },
  "language_info": {
   "codemirror_mode": {
    "name": "ipython",
    "version": 3
   },
   "file_extension": ".py",
   "mimetype": "text/x-python",
   "name": "python",
   "nbconvert_exporter": "python",
   "pygments_lexer": "ipython3",
   "version": "3.12.8"
  }
 },
 "nbformat": 4,
 "nbformat_minor": 5
}
